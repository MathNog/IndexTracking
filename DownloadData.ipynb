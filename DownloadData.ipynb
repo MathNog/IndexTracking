{
 "cells": [
  {
   "cell_type": "code",
   "execution_count": 1,
   "id": "1a83d47b-8c89-4771-823d-3e2e9fa0c9cb",
   "metadata": {
    "colab": {
     "base_uri": "https://localhost:8080/",
     "height": 140
    },
    "executionInfo": {
     "elapsed": 272,
     "status": "error",
     "timestamp": 1698344287121,
     "user": {
      "displayName": "Matheus Nogueira",
      "userId": "13615507167184764105"
     },
     "user_tz": 180
    },
    "id": "1a83d47b-8c89-4771-823d-3e2e9fa0c9cb",
    "outputId": "b1958f78-659a-4dfa-a2b2-e773d5e8e228"
   },
   "outputs": [],
   "source": [
    "using YFinance, DataFrames, CSV"
   ]
  },
  {
   "cell_type": "code",
   "execution_count": 2,
   "id": "3d879527-e92d-43c8-b0fc-54b5497e357e",
   "metadata": {
    "id": "3d879527-e92d-43c8-b0fc-54b5497e357e"
   },
   "outputs": [],
   "source": [
    "startdt = \"2022-08-16\"\n",
    "enddt = \"2023-10-26\";"
   ]
  },
  {
   "cell_type": "code",
   "execution_count": 3,
   "id": "be0ab4cd-67ef-4766-8bfa-a52ca752450a",
   "metadata": {
    "id": "be0ab4cd-67ef-4766-8bfa-a52ca752450a"
   },
   "outputs": [],
   "source": [
    "cac40 = get_prices.(\"^FCHI\",startdt=startdt, enddt=enddt);"
   ]
  },
  {
   "cell_type": "code",
   "execution_count": 18,
   "id": "ae9d1521-c9d8-42d5-9f46-73291dc97a89",
   "metadata": {
    "id": "ae9d1521-c9d8-42d5-9f46-73291dc97a89",
    "outputId": "39bf4cb2-aa0f-477b-94bc-3679d31a6e7e"
   },
   "outputs": [
    {
     "data": {
      "text/html": [
       "<div><div style = \"float: left;\"><span>5×2 DataFrame</span></div><div style = \"clear: both;\"></div></div><div class = \"data-frame\" style = \"overflow-x: scroll;\"><table class = \"data-frame\" style = \"margin-bottom: 6px;\"><thead><tr class = \"header\"><th class = \"rowNumber\" style = \"font-weight: bold; text-align: right;\">Row</th><th style = \"text-align: left;\">Data</th><th style = \"text-align: left;\">CAC40</th></tr><tr class = \"subheader headerLastRow\"><th class = \"rowNumber\" style = \"font-weight: bold; text-align: right;\"></th><th title = \"Dates.DateTime\" style = \"text-align: left;\">DateTime</th><th title = \"Float64\" style = \"text-align: left;\">Float64</th></tr></thead><tbody><tr><td class = \"rowNumber\" style = \"font-weight: bold; text-align: right;\">1</td><td style = \"text-align: left;\">2022-08-16T07:00:00</td><td style = \"text-align: right;\">6592.58</td></tr><tr><td class = \"rowNumber\" style = \"font-weight: bold; text-align: right;\">2</td><td style = \"text-align: left;\">2022-08-17T07:00:00</td><td style = \"text-align: right;\">6528.32</td></tr><tr><td class = \"rowNumber\" style = \"font-weight: bold; text-align: right;\">3</td><td style = \"text-align: left;\">2022-08-18T07:00:00</td><td style = \"text-align: right;\">6557.4</td></tr><tr><td class = \"rowNumber\" style = \"font-weight: bold; text-align: right;\">4</td><td style = \"text-align: left;\">2022-08-19T07:00:00</td><td style = \"text-align: right;\">6495.83</td></tr><tr><td class = \"rowNumber\" style = \"font-weight: bold; text-align: right;\">5</td><td style = \"text-align: left;\">2022-08-22T07:00:00</td><td style = \"text-align: right;\">6378.74</td></tr></tbody></table></div>"
      ],
      "text/latex": [
       "\\begin{tabular}{r|cc}\n",
       "\t& Data & CAC40\\\\\n",
       "\t\\hline\n",
       "\t& DateTime & Float64\\\\\n",
       "\t\\hline\n",
       "\t1 & 2022-08-16T07:00:00 & 6592.58 \\\\\n",
       "\t2 & 2022-08-17T07:00:00 & 6528.32 \\\\\n",
       "\t3 & 2022-08-18T07:00:00 & 6557.4 \\\\\n",
       "\t4 & 2022-08-19T07:00:00 & 6495.83 \\\\\n",
       "\t5 & 2022-08-22T07:00:00 & 6378.74 \\\\\n",
       "\\end{tabular}\n"
      ],
      "text/plain": [
       "\u001b[1m5×2 DataFrame\u001b[0m\n",
       "\u001b[1m Row \u001b[0m│\u001b[1m Data                \u001b[0m\u001b[1m CAC40   \u001b[0m\n",
       "     │\u001b[90m DateTime            \u001b[0m\u001b[90m Float64 \u001b[0m\n",
       "─────┼──────────────────────────────\n",
       "   1 │ 2022-08-16T07:00:00  6592.58\n",
       "   2 │ 2022-08-17T07:00:00  6528.32\n",
       "   3 │ 2022-08-18T07:00:00  6557.4\n",
       "   4 │ 2022-08-19T07:00:00  6495.83\n",
       "   5 │ 2022-08-22T07:00:00  6378.74"
      ]
     },
     "execution_count": 18,
     "metadata": {},
     "output_type": "execute_result"
    }
   ],
   "source": [
    "datas = cac40[\"timestamp\"]\n",
    "adjclose = cac40[\"adjclose\"]\n",
    "df = DataFrame()\n",
    "df[:,\"Data\"] = datas\n",
    "df[:,\"CAC40\"] = adjclose;\n",
    "df[1:5,:]"
   ]
  },
  {
   "cell_type": "code",
   "execution_count": 13,
   "id": "7207320e-1b9a-4fa4-aaf0-481d1f915b50",
   "metadata": {
    "id": "7207320e-1b9a-4fa4-aaf0-481d1f915b50"
   },
   "outputs": [],
   "source": [
    "#\"URW.PA\",\"MT\" ficaram de fora por não ter preços neste período\n",
    "tickers = [\"MC.PA\",\"OR.PA\",\"RMS.PA\",\"TTE.PA\",\"SAN.PA\",\"AIR.PA\",\"SU.PA\",\"AI.PA\",\"EL.PA\",\"BNP.PA\",\"CS.PA\",\"SAF.PA\",\"DG.PA\",\"STLAP.PA\",\"KER.PA\",\"TEP.PA\",\"WLN.PA\",\"VIV.PA\",\"ALO.PA\",\"ERF.PA\",\"RNO.PA\",\"CA.PA\",\"EN.PA\",\"PUB.PA\",\"GLE.PA\",\"VIE.PA\",\"ML.PA\",\"LR.PA\",\"CAP.PA\",\"SGO.PA\",\"ORA.PA\",\"HO.PA\",\"ACA.PA\",\"STMPA.PA\",\"ENGI.PA\",\"BN.PA\",\"RI.PA\",\"DSY.PA\"];"
   ]
  },
  {
   "cell_type": "code",
   "execution_count": 6,
   "id": "dd47ad0e-708b-4f82-bd00-b6ff3a80ea7b",
   "metadata": {
    "id": "dd47ad0e-708b-4f82-bd00-b6ff3a80ea7b"
   },
   "outputs": [],
   "source": [
    "dados = get_prices.(tickers,startdt=startdt, enddt=enddt);"
   ]
  },
  {
   "cell_type": "code",
   "execution_count": 19,
   "id": "958197fd-86a9-4fd2-a622-0d9ccfcd0205",
   "metadata": {
    "id": "958197fd-86a9-4fd2-a622-0d9ccfcd0205"
   },
   "outputs": [],
   "source": [
    "for dado in dados\n",
    "    # df[:,dado[\"ticker\"]] = dado[\"adjclose\"]\n",
    "    datas = dado[\"timestamp\"]\n",
    "    adjclose = dado[\"adjclose\"]\n",
    "    df2 = DataFrame()\n",
    "    df2[:,\"Data\"] = datas\n",
    "    df2[:,dado[\"ticker\"]] = adjclose\n",
    "    df = leftjoin(df, df2, on=:Data)\n",
    "end"
   ]
  },
  {
   "cell_type": "code",
   "execution_count": 22,
   "id": "a72806a1-d584-4257-aa6f-ff3e1fd5be9a",
   "metadata": {},
   "outputs": [
    {
     "name": "stdout",
     "output_type": "stream",
     "text": [
      "(308, 40)\n",
      "(306, 40)\n"
     ]
    }
   ],
   "source": [
    "println(size(df))\n",
    "# Dropar dias com NaN\n",
    "df = df[all.(!isnan, eachrow(df[:,2:end])), :]\n",
    "\n",
    "println(size(df))"
   ]
  },
  {
   "cell_type": "code",
   "execution_count": 24,
   "id": "a061f6a7-4277-443f-a5e2-45b5fcd26c8c",
   "metadata": {
    "id": "a061f6a7-4277-443f-a5e2-45b5fcd26c8c",
    "outputId": "626bdccd-5ae6-4f71-90c9-1ceabe0c05a0"
   },
   "outputs": [
    {
     "name": "stdout",
     "output_type": "stream",
     "text": [
      "(306, 40)\n"
     ]
    },
    {
     "data": {
      "text/html": [
       "<div><div style = \"float: left;\"><span>5×40 DataFrame</span></div><div style = \"clear: both;\"></div></div><div class = \"data-frame\" style = \"overflow-x: scroll;\"><table class = \"data-frame\" style = \"margin-bottom: 6px;\"><thead><tr class = \"header\"><th class = \"rowNumber\" style = \"font-weight: bold; text-align: right;\">Row</th><th style = \"text-align: left;\">Data</th><th style = \"text-align: left;\">CAC40</th><th style = \"text-align: left;\">MC.PA</th><th style = \"text-align: left;\">OR.PA</th><th style = \"text-align: left;\">RMS.PA</th><th style = \"text-align: left;\">TTE.PA</th><th style = \"text-align: left;\">SAN.PA</th><th style = \"text-align: left;\">AIR.PA</th><th style = \"text-align: left;\">SU.PA</th><th style = \"text-align: left;\">AI.PA</th><th style = \"text-align: left;\">EL.PA</th><th style = \"text-align: left;\">BNP.PA</th><th style = \"text-align: left;\">CS.PA</th><th style = \"text-align: left;\">SAF.PA</th><th style = \"text-align: left;\">DG.PA</th><th style = \"text-align: left;\">STLAP.PA</th><th style = \"text-align: left;\">KER.PA</th><th style = \"text-align: left;\">TEP.PA</th><th style = \"text-align: left;\">WLN.PA</th><th style = \"text-align: left;\">VIV.PA</th><th style = \"text-align: left;\">ALO.PA</th><th style = \"text-align: left;\">ERF.PA</th><th style = \"text-align: left;\">RNO.PA</th><th style = \"text-align: left;\">CA.PA</th><th style = \"text-align: left;\">EN.PA</th><th style = \"text-align: left;\">PUB.PA</th><th style = \"text-align: left;\">GLE.PA</th><th style = \"text-align: left;\">VIE.PA</th><th style = \"text-align: left;\">ML.PA</th><th style = \"text-align: left;\">LR.PA</th><th style = \"text-align: left;\">CAP.PA</th><th style = \"text-align: left;\">SGO.PA</th><th style = \"text-align: left;\">ORA.PA</th><th style = \"text-align: left;\">HO.PA</th><th style = \"text-align: left;\">ACA.PA</th><th style = \"text-align: left;\">STMPA.PA</th><th style = \"text-align: left;\">ENGI.PA</th><th style = \"text-align: left;\">BN.PA</th><th style = \"text-align: left;\">RI.PA</th><th style = \"text-align: left;\">DSY.PA</th></tr><tr class = \"subheader headerLastRow\"><th class = \"rowNumber\" style = \"font-weight: bold; text-align: right;\"></th><th title = \"Dates.DateTime\" style = \"text-align: left;\">DateTime</th><th title = \"Float64\" style = \"text-align: left;\">Float64</th><th title = \"Union{Missing, Float64}\" style = \"text-align: left;\">Float64?</th><th title = \"Union{Missing, Float64}\" style = \"text-align: left;\">Float64?</th><th title = \"Union{Missing, Float64}\" style = \"text-align: left;\">Float64?</th><th title = \"Union{Missing, Float64}\" style = \"text-align: left;\">Float64?</th><th title = \"Union{Missing, Float64}\" style = \"text-align: left;\">Float64?</th><th title = \"Union{Missing, Float64}\" style = \"text-align: left;\">Float64?</th><th title = \"Union{Missing, Float64}\" style = \"text-align: left;\">Float64?</th><th title = \"Union{Missing, Float64}\" style = \"text-align: left;\">Float64?</th><th title = \"Union{Missing, Float64}\" style = \"text-align: left;\">Float64?</th><th title = \"Union{Missing, Float64}\" style = \"text-align: left;\">Float64?</th><th title = \"Union{Missing, Float64}\" style = \"text-align: left;\">Float64?</th><th title = \"Union{Missing, Float64}\" style = \"text-align: left;\">Float64?</th><th title = \"Union{Missing, Float64}\" style = \"text-align: left;\">Float64?</th><th title = \"Union{Missing, Float64}\" style = \"text-align: left;\">Float64?</th><th title = \"Union{Missing, Float64}\" style = \"text-align: left;\">Float64?</th><th title = \"Union{Missing, Float64}\" style = \"text-align: left;\">Float64?</th><th title = \"Union{Missing, Float64}\" style = \"text-align: left;\">Float64?</th><th title = \"Union{Missing, Float64}\" style = \"text-align: left;\">Float64?</th><th title = \"Union{Missing, Float64}\" style = \"text-align: left;\">Float64?</th><th title = \"Union{Missing, Float64}\" style = \"text-align: left;\">Float64?</th><th title = \"Union{Missing, Float64}\" style = \"text-align: left;\">Float64?</th><th title = \"Union{Missing, Float64}\" style = \"text-align: left;\">Float64?</th><th title = \"Union{Missing, Float64}\" style = \"text-align: left;\">Float64?</th><th title = \"Union{Missing, Float64}\" style = \"text-align: left;\">Float64?</th><th title = \"Union{Missing, Float64}\" style = \"text-align: left;\">Float64?</th><th title = \"Union{Missing, Float64}\" style = \"text-align: left;\">Float64?</th><th title = \"Union{Missing, Float64}\" style = \"text-align: left;\">Float64?</th><th title = \"Union{Missing, Float64}\" style = \"text-align: left;\">Float64?</th><th title = \"Union{Missing, Float64}\" style = \"text-align: left;\">Float64?</th><th title = \"Union{Missing, Float64}\" style = \"text-align: left;\">Float64?</th><th title = \"Union{Missing, Float64}\" style = \"text-align: left;\">Float64?</th><th title = \"Union{Missing, Float64}\" style = \"text-align: left;\">Float64?</th><th title = \"Union{Missing, Float64}\" style = \"text-align: left;\">Float64?</th><th title = \"Union{Missing, Float64}\" style = \"text-align: left;\">Float64?</th><th title = \"Union{Missing, Float64}\" style = \"text-align: left;\">Float64?</th><th title = \"Union{Missing, Float64}\" style = \"text-align: left;\">Float64?</th><th title = \"Union{Missing, Float64}\" style = \"text-align: left;\">Float64?</th><th title = \"Union{Missing, Float64}\" style = \"text-align: left;\">Float64?</th></tr></thead><tbody><tr><td class = \"rowNumber\" style = \"font-weight: bold; text-align: right;\">1</td><td style = \"text-align: left;\">2022-08-16T07:00:00</td><td style = \"text-align: right;\">6592.58</td><td style = \"text-align: right;\">688.773</td><td style = \"text-align: right;\">357.716</td><td style = \"text-align: right;\">1380.18</td><td style = \"text-align: right;\">47.4635</td><td style = \"text-align: right;\">83.4747</td><td style = \"text-align: right;\">108.988</td><td style = \"text-align: right;\">133.734</td><td style = \"text-align: right;\">133.765</td><td style = \"text-align: right;\">159.638</td><td style = \"text-align: right;\">46.8634</td><td style = \"text-align: right;\">23.1368</td><td style = \"text-align: right;\">111.369</td><td style = \"text-align: right;\">91.6649</td><td style = \"text-align: right;\">13.65</td><td style = \"text-align: right;\">550.425</td><td style = \"text-align: right;\">304.679</td><td style = \"text-align: right;\">44.02</td><td style = \"text-align: right;\">9.09252</td><td style = \"text-align: right;\">23.8081</td><td style = \"text-align: right;\">75.0489</td><td style = \"text-align: right;\">30.5094</td><td style = \"text-align: right;\">16.7366</td><td style = \"text-align: right;\">29.0951</td><td style = \"text-align: right;\">49.7946</td><td style = \"text-align: right;\">21.935</td><td style = \"text-align: right;\">24.1728</td><td style = \"text-align: right;\">25.9956</td><td style = \"text-align: right;\">80.98</td><td style = \"text-align: right;\">184.365</td><td style = \"text-align: right;\">44.429</td><td style = \"text-align: right;\">9.61427</td><td style = \"text-align: right;\">121.856</td><td style = \"text-align: right;\">9.15832</td><td style = \"text-align: right;\">37.2889</td><td style = \"text-align: right;\">11.797</td><td style = \"text-align: right;\">52.3497</td><td style = \"text-align: right;\">189.513</td><td style = \"text-align: right;\">42.5295</td></tr><tr><td class = \"rowNumber\" style = \"font-weight: bold; text-align: right;\">2</td><td style = \"text-align: left;\">2022-08-17T07:00:00</td><td style = \"text-align: right;\">6528.32</td><td style = \"text-align: right;\">690.252</td><td style = \"text-align: right;\">359.442</td><td style = \"text-align: right;\">1384.15</td><td style = \"text-align: right;\">47.5003</td><td style = \"text-align: right;\">78.7317</td><td style = \"text-align: right;\">106.622</td><td style = \"text-align: right;\">132.773</td><td style = \"text-align: right;\">133.058</td><td style = \"text-align: right;\">159.442</td><td style = \"text-align: right;\">46.2511</td><td style = \"text-align: right;\">23.0098</td><td style = \"text-align: right;\">110.537</td><td style = \"text-align: right;\">90.6636</td><td style = \"text-align: right;\">13.4705</td><td style = \"text-align: right;\">549.84</td><td style = \"text-align: right;\">302.225</td><td style = \"text-align: right;\">43.83</td><td style = \"text-align: right;\">8.93465</td><td style = \"text-align: right;\">22.1832</td><td style = \"text-align: right;\">74.6557</td><td style = \"text-align: right;\">29.7503</td><td style = \"text-align: right;\">16.7366</td><td style = \"text-align: right;\">28.7361</td><td style = \"text-align: right;\">48.9109</td><td style = \"text-align: right;\">21.6194</td><td style = \"text-align: right;\">23.7118</td><td style = \"text-align: right;\">25.0298</td><td style = \"text-align: right;\">80.04</td><td style = \"text-align: right;\">182.603</td><td style = \"text-align: right;\">43.055</td><td style = \"text-align: right;\">9.64602</td><td style = \"text-align: right;\">123.03</td><td style = \"text-align: right;\">9.02699</td><td style = \"text-align: right;\">35.6711</td><td style = \"text-align: right;\">11.7733</td><td style = \"text-align: right;\">52.3013</td><td style = \"text-align: right;\">190.148</td><td style = \"text-align: right;\">42.2858</td></tr><tr><td class = \"rowNumber\" style = \"font-weight: bold; text-align: right;\">3</td><td style = \"text-align: left;\">2022-08-18T07:00:00</td><td style = \"text-align: right;\">6557.4</td><td style = \"text-align: right;\">696.657</td><td style = \"text-align: right;\">358.752</td><td style = \"text-align: right;\">1398.05</td><td style = \"text-align: right;\">48.6616</td><td style = \"text-align: right;\">78.7799</td><td style = \"text-align: right;\">107.135</td><td style = \"text-align: right;\">134.106</td><td style = \"text-align: right;\">133.962</td><td style = \"text-align: right;\">159.688</td><td style = \"text-align: right;\">45.8351</td><td style = \"text-align: right;\">22.9392</td><td style = \"text-align: right;\">110.498</td><td style = \"text-align: right;\">90.7984</td><td style = \"text-align: right;\">13.6262</td><td style = \"text-align: right;\">549.059</td><td style = \"text-align: right;\">307.133</td><td style = \"text-align: right;\">43.4</td><td style = \"text-align: right;\">8.79431</td><td style = \"text-align: right;\">22.0941</td><td style = \"text-align: right;\">74.6361</td><td style = \"text-align: right;\">30.0083</td><td style = \"text-align: right;\">16.814</td><td style = \"text-align: right;\">28.9061</td><td style = \"text-align: right;\">48.8533</td><td style = \"text-align: right;\">21.5266</td><td style = \"text-align: right;\">23.3853</td><td style = \"text-align: right;\">25.0872</td><td style = \"text-align: right;\">80.56</td><td style = \"text-align: right;\">183.435</td><td style = \"text-align: right;\">41.9414</td><td style = \"text-align: right;\">9.64228</td><td style = \"text-align: right;\">121.953</td><td style = \"text-align: right;\">8.92485</td><td style = \"text-align: right;\">36.8224</td><td style = \"text-align: right;\">11.7479</td><td style = \"text-align: right;\">51.9049</td><td style = \"text-align: right;\">190.197</td><td style = \"text-align: right;\">42.6141</td></tr><tr><td class = \"rowNumber\" style = \"font-weight: bold; text-align: right;\">4</td><td style = \"text-align: left;\">2022-08-19T07:00:00</td><td style = \"text-align: right;\">6495.83</td><td style = \"text-align: right;\">688.182</td><td style = \"text-align: right;\">357.125</td><td style = \"text-align: right;\">1387.13</td><td style = \"text-align: right;\">48.5602</td><td style = \"text-align: right;\">78.7221</td><td style = \"text-align: right;\">104.749</td><td style = \"text-align: right;\">131.832</td><td style = \"text-align: right;\">134.04</td><td style = \"text-align: right;\">158.852</td><td style = \"text-align: right;\">44.5543</td><td style = \"text-align: right;\">22.831</td><td style = \"text-align: right;\">108.854</td><td style = \"text-align: right;\">90.2978</td><td style = \"text-align: right;\">13.225</td><td style = \"text-align: right;\">544.571</td><td style = \"text-align: right;\">304.385</td><td style = \"text-align: right;\">42.77</td><td style = \"text-align: right;\">8.75338</td><td style = \"text-align: right;\">21.6977</td><td style = \"text-align: right;\">73.5943</td><td style = \"text-align: right;\">29.0854</td><td style = \"text-align: right;\">16.8431</td><td style = \"text-align: right;\">28.8022</td><td style = \"text-align: right;\">48.8725</td><td style = \"text-align: right;\">20.9093</td><td style = \"text-align: right;\">23.174</td><td style = \"text-align: right;\">24.6664</td><td style = \"text-align: right;\">79.28</td><td style = \"text-align: right;\">182.358</td><td style = \"text-align: right;\">41.6811</td><td style = \"text-align: right;\">9.69084</td><td style = \"text-align: right;\">122.394</td><td style = \"text-align: right;\">8.7388</td><td style = \"text-align: right;\">36.346</td><td style = \"text-align: right;\">11.7624</td><td style = \"text-align: right;\">51.8759</td><td style = \"text-align: right;\">190.831</td><td style = \"text-align: right;\">42.3106</td></tr><tr><td class = \"rowNumber\" style = \"font-weight: bold; text-align: right;\">5</td><td style = \"text-align: left;\">2022-08-22T07:00:00</td><td style = \"text-align: right;\">6378.74</td><td style = \"text-align: right;\">672.709</td><td style = \"text-align: right;\">356.878</td><td style = \"text-align: right;\">1368.75</td><td style = \"text-align: right;\">48.8828</td><td style = \"text-align: right;\">79.9946</td><td style = \"text-align: right;\">101.791</td><td style = \"text-align: right;\">126.029</td><td style = \"text-align: right;\">129.661</td><td style = \"text-align: right;\">153.744</td><td style = \"text-align: right;\">43.4512</td><td style = \"text-align: right;\">22.3792</td><td style = \"text-align: right;\">106.794</td><td style = \"text-align: right;\">88.8344</td><td style = \"text-align: right;\">12.6938</td><td style = \"text-align: right;\">527.398</td><td style = \"text-align: right;\">299.183</td><td style = \"text-align: right;\">42.01</td><td style = \"text-align: right;\">8.75923</td><td style = \"text-align: right;\">21.133</td><td style = \"text-align: right;\">71.2158</td><td style = \"text-align: right;\">27.8003</td><td style = \"text-align: right;\">16.6931</td><td style = \"text-align: right;\">28.3297</td><td style = \"text-align: right;\">47.0859</td><td style = \"text-align: right;\">20.2781</td><td style = \"text-align: right;\">22.3481</td><td style = \"text-align: right;\">23.8679</td><td style = \"text-align: right;\">76.44</td><td style = \"text-align: right;\">177.118</td><td style = \"text-align: right;\">40.2493</td><td style = \"text-align: right;\">9.66843</td><td style = \"text-align: right;\">122.492</td><td style = \"text-align: right;\">8.50533</td><td style = \"text-align: right;\">35.3039</td><td style = \"text-align: right;\">11.7406</td><td style = \"text-align: right;\">51.4697</td><td style = \"text-align: right;\">189.708</td><td style = \"text-align: right;\">40.316</td></tr></tbody></table></div>"
      ],
      "text/latex": [
       "\\begin{tabular}{r|cccccccc}\n",
       "\t& Data & CAC40 & MC.PA & OR.PA & RMS.PA & TTE.PA & SAN.PA & \\\\\n",
       "\t\\hline\n",
       "\t& DateTime & Float64 & Float64? & Float64? & Float64? & Float64? & Float64? & \\\\\n",
       "\t\\hline\n",
       "\t1 & 2022-08-16T07:00:00 & 6592.58 & 688.773 & 357.716 & 1380.18 & 47.4635 & 83.4747 & $\\dots$ \\\\\n",
       "\t2 & 2022-08-17T07:00:00 & 6528.32 & 690.252 & 359.442 & 1384.15 & 47.5003 & 78.7317 & $\\dots$ \\\\\n",
       "\t3 & 2022-08-18T07:00:00 & 6557.4 & 696.657 & 358.752 & 1398.05 & 48.6616 & 78.7799 & $\\dots$ \\\\\n",
       "\t4 & 2022-08-19T07:00:00 & 6495.83 & 688.182 & 357.125 & 1387.13 & 48.5602 & 78.7221 & $\\dots$ \\\\\n",
       "\t5 & 2022-08-22T07:00:00 & 6378.74 & 672.709 & 356.878 & 1368.75 & 48.8828 & 79.9946 & $\\dots$ \\\\\n",
       "\\end{tabular}\n"
      ],
      "text/plain": [
       "\u001b[1m5×40 DataFrame\u001b[0m\n",
       "\u001b[1m Row \u001b[0m│\u001b[1m Data                \u001b[0m\u001b[1m CAC40   \u001b[0m\u001b[1m MC.PA    \u001b[0m\u001b[1m OR.PA    \u001b[0m\u001b[1m RMS.PA   \u001b[0m\u001b[1m TTE.PA   \u001b[0m\u001b[1m S\u001b[0m ⋯\n",
       "     │\u001b[90m DateTime            \u001b[0m\u001b[90m Float64 \u001b[0m\u001b[90m Float64? \u001b[0m\u001b[90m Float64? \u001b[0m\u001b[90m Float64? \u001b[0m\u001b[90m Float64? \u001b[0m\u001b[90m F\u001b[0m ⋯\n",
       "─────┼──────────────────────────────────────────────────────────────────────────\n",
       "   1 │ 2022-08-16T07:00:00  6592.58   688.773   357.716   1380.18   47.4635    ⋯\n",
       "   2 │ 2022-08-17T07:00:00  6528.32   690.252   359.442   1384.15   47.5003\n",
       "   3 │ 2022-08-18T07:00:00  6557.4    696.657   358.752   1398.05   48.6616\n",
       "   4 │ 2022-08-19T07:00:00  6495.83   688.182   357.125   1387.13   48.5602\n",
       "   5 │ 2022-08-22T07:00:00  6378.74   672.709   356.878   1368.75   48.8828    ⋯\n",
       "\u001b[36m                                                              34 columns omitted\u001b[0m"
      ]
     },
     "execution_count": 24,
     "metadata": {},
     "output_type": "execute_result"
    }
   ],
   "source": [
    "println(size(df))\n",
    "df[1:5,:]"
   ]
  },
  {
   "cell_type": "code",
   "execution_count": 25,
   "id": "c5b6e074-e6aa-4a11-9e8a-f7935fe9369d",
   "metadata": {
    "id": "c5b6e074-e6aa-4a11-9e8a-f7935fe9369d",
    "outputId": "e67bde63-571f-4166-d653-4fece0fc38c0"
   },
   "outputs": [
    {
     "data": {
      "text/plain": [
       "\"precos_projeto.csv\""
      ]
     },
     "execution_count": 25,
     "metadata": {},
     "output_type": "execute_result"
    }
   ],
   "source": [
    "CSV.write(\"precos_projeto.csv\",df)"
   ]
  },
  {
   "cell_type": "code",
   "execution_count": 26,
   "id": "77b1e5e5-2ec4-4f04-86ff-43d697b7ded8",
   "metadata": {},
   "outputs": [
    {
     "data": {
      "text/plain": [
       "get_percent_return (generic function with 1 method)"
      ]
     },
     "execution_count": 26,
     "metadata": {},
     "output_type": "execute_result"
    }
   ],
   "source": [
    "function get_percent_return(prices::Vector{F}) where{F}\n",
    "    return [(prices[i] - prices[i-1])/prices[i-1] for i in 2:length(prices)]\n",
    "end"
   ]
  },
  {
   "cell_type": "code",
   "execution_count": 27,
   "id": "562d60cb-6a7a-4928-9d00-7af4b2b16390",
   "metadata": {},
   "outputs": [],
   "source": [
    "retornos = DataFrame()\n",
    "retornos[:,\"Data\"] = df.Data[2:end]\n",
    "for (i,col) in enumerate(eachcol(df[:,2:end]))\n",
    "    retornos[:,names(df)[i+1]] = get_percent_return(col)\n",
    "end"
   ]
  },
  {
   "cell_type": "code",
   "execution_count": 34,
   "id": "64b4ea72-f4a0-4107-9591-0322f3a67bcf",
   "metadata": {},
   "outputs": [
    {
     "data": {
      "text/plain": [
       "\"retornos_projeto.csv\""
      ]
     },
     "execution_count": 34,
     "metadata": {},
     "output_type": "execute_result"
    }
   ],
   "source": [
    "CSV.write(\"retornos_projeto.csv\",retornos)"
   ]
  }
 ],
 "metadata": {
  "colab": {
   "provenance": []
  },
  "kernelspec": {
   "display_name": "Julia 1.8.2",
   "language": "julia",
   "name": "julia-1.8"
  },
  "language_info": {
   "file_extension": ".jl",
   "mimetype": "application/julia",
   "name": "julia",
   "version": "1.8.2"
  }
 },
 "nbformat": 4,
 "nbformat_minor": 5
}
