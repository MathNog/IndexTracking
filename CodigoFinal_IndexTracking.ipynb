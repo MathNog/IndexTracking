{
 "cells": [
  {
   "cell_type": "markdown",
   "metadata": {},
   "source": [
    "## ENG1585 - Projeto Final - Fundo de Índice\n",
    "\n",
    "### Grupo:\n",
    " - Gabriel Alcouffe (2320011)\n",
    " - Luisa Compasso (2110976)\n",
    " - Matheus Nogueira (1810764)\n"
   ]
  },
  {
   "cell_type": "markdown",
   "metadata": {},
   "source": [
    "## Importação dos pacotes"
   ]
  },
  {
   "cell_type": "code",
   "execution_count": null,
   "id": "3653cb3c-5af2-4e3d-ad4b-9ea7969e517a",
   "metadata": {},
   "outputs": [],
   "source": [
    "using JuMP, CSV, DataFrames, Statistics, Plots, Cbc"
   ]
  },
  {
   "cell_type": "markdown",
   "id": "31ff633f-5a2a-4b56-a78c-b540db0cdd0a",
   "metadata": {},
   "source": [
    "## Importação dos dados"
   ]
  },
  {
   "cell_type": "code",
   "execution_count": null,
   "id": "f18511df-7d40-4dd0-b6a7-510e3527f70f",
   "metadata": {},
   "outputs": [],
   "source": [
    "retornos = CSV.read(\"retornos_projeto.csv\", DataFrame);\n",
    "precos = CSV.read(\"precos_projeto.csv\", DataFrame);\n",
    "\n",
    "datas = retornos[:,1];\n",
    "\n",
    "y = retornos.CAC40\n",
    "R = retornos[:,3:end];"
   ]
  },
  {
   "cell_type": "markdown",
   "id": "ac043f89-6aed-4de7-a9e4-a2597aa17098",
   "metadata": {},
   "source": [
    "## Primeira Versão - DR"
   ]
  },
  {
   "cell_type": "code",
   "execution_count": null,
   "id": "ed047d09-808f-47fb-9a7c-f243af19d725",
   "metadata": {},
   "outputs": [],
   "source": [
    "function downside_risk_optimization(y::Vector{Fl}, R::Matrix{Fl}; j::Int64=1) where{Fl}\n",
    "    T, N = size(R)\n",
    "    model = JuMP.Model(Ipopt.Optimizer)\n",
    "    set_silent(model)\n",
    "    @variable(model, x[1:N] >= 0)\n",
    "    @variable(model, θ[1:T]>= 0) \n",
    "    @constraint(model, [t in 1:T], θ[t]>= y[t] - x'R[t,:])\n",
    "    @constraint(model, sum(x)==1)\n",
    "    @objective(model, Min, sum((θ[t])^2 for t in T-j:T))\n",
    "    optimize!(model)\n",
    "\n",
    "    return value.(x), value.(θ), objective_value(model)\n",
    "end"
   ]
  },
  {
   "cell_type": "markdown",
   "id": "4a066b9b-00eb-41aa-b74f-82718c7ac172",
   "metadata": {},
   "source": [
    "## Segunda Versão - DR com custos de transação"
   ]
  },
  {
   "cell_type": "code",
   "execution_count": null,
   "id": "46f9bc04-baae-4a01-9d73-ffe0018ebd95",
   "metadata": {},
   "outputs": [],
   "source": [
    "function downside_risk_optimization_with_costs(y::Vector{Fl}, R::Matrix{Fl}, W::Float64, alocacaoFinanceira::Vector{Fl};\n",
    "                                                j::Int64=1, C::Float64=1.) where{Fl}\n",
    "    T, N = size(R)\n",
    "    model = JuMP.Model(Ipopt.Optimizer)\n",
    "    set_silent(model)\n",
    "    @variable(model, x[1:N] >= 0)\n",
    "    @variable(model, θ[1:T] >= 0) \n",
    "    @variable(model, c[1:N] >= 0)\n",
    "    @constraint(model, [t in 1:T], θ[t]>= y[t] - x'R[t,:])\n",
    "    @constraint(model, sum(x)==1)\n",
    "\n",
    "    @constraint(model, [i in 1:N], c[i] >= x[i]*W.-alocacaoFinanceira[i])\n",
    "    @constraint(model, [i in 1:N], c[i] >= -(x[i]*W.-alocacaoFinanceira[i]))\n",
    "    @constraint(model, 0.01*sum(c) <= C*W)\n",
    "    \n",
    "    @objective(model, Min, sum((θ[t])^2 for t in j:T))\n",
    "    optimize!(model)\n",
    "\n",
    "    x_opt = value.(x)\n",
    "    # turnover_opt = sum(abs.(x_opt*W.-alocacaoFinanceira))\n",
    "\n",
    "    return x_opt, value.(θ), objective_value(model)#, turnover_opt\n",
    "end"
   ]
  },
  {
   "cell_type": "markdown",
   "id": "362b7b74-9901-45c2-8761-456c78f6af85",
   "metadata": {},
   "source": [
    "## Terceira Versão - DR com custos de transação e esparsidade"
   ]
  },
  {
   "cell_type": "code",
   "execution_count": null,
   "id": "dd143680-4cef-4daa-af15-e26c862ded0c",
   "metadata": {},
   "outputs": [],
   "source": [
    "function downside_risk_sparse_optimization_with_costs(y::Vector{Fl}, R::Matrix{Fl}, W::Float64, alocacaoFinanceira::Vector{Fl};\n",
    "                                                j::Int64=1, k::Int64=38, λ::Float64=0.,\n",
    "                                                initial_I::Vector{Int64}=zeros(38)) where{Fl}\n",
    "    T, N = size(R)\n",
    "    model = JuMP.Model(SCIP.Optimizer)\n",
    "    set_silent(model)\n",
    "    @variable(model, x[1:N] >= 0)\n",
    "    @variable(model, θ[T-j:T] >= 0) \n",
    "    @variable(model, c[1:N] >= 0)\n",
    "    @variable(model, I[1:N], Bin)\n",
    "    set_start_value.(I, initial_I)\n",
    "    @constraint(model, [t in T-j:T], θ[t]>= y[t] - x'R[t,:])\n",
    "    @constraint(model, sum(x)==1)\n",
    "    # Sparse\n",
    "    @constraint(model, [i in 1:N], x[i] <= I[i])\n",
    "    @constraint(model, sum(I)<=k)\n",
    "\n",
    "    @constraint(model, [i in 1:N], c[i] >= x[i]*W.-alocacaoFinanceira[i])\n",
    "    @constraint(model, [i in 1:N], c[i] >= -(x[i]*W.-alocacaoFinanceira[i]))\n",
    "    # @constraint(model, 0.01*sum(c) <= C*W)\n",
    "    \n",
    "    @objective(model, Min, sum((θ[t]) for t in T-j:T) + λ*sum(c))\n",
    "    optimize!(model)\n",
    "\n",
    "    x_opt = value.(x)\n",
    "\n",
    "    return x_opt, value.(θ), value.(I), objective_value(model)\n",
    "end"
   ]
  },
  {
   "cell_type": "markdown",
   "id": "a78575ae-5c63-4dbd-9bbd-f0e05d8f4f2c",
   "metadata": {},
   "source": [
    "## Funções auxiliares de plots"
   ]
  },
  {
   "cell_type": "code",
   "execution_count": null,
   "id": "bcb3dd8c-1346-46ff-abe4-d4bd995de67a",
   "metadata": {},
   "outputs": [],
   "source": [
    "function plot_comparacao_retorno(datas_backtest,retornos_carteira, y, H, j, k, λ)\n",
    "    plot(datas_backtest,retornos_carteira,label=\"Carteira\")\n",
    "    plot!(datas_backtest,y[end-H+1:end], label=\"Índice\")\n",
    "    plot!(xlabel=\"Dias\", ylabel=\"\", title=\"Comparação retornos diários (j = $j, k = $k, λ = $λ)\")\n",
    "end\n",
    "\n",
    "function plot_turnover(turnover, j, k, λ)\n",
    "    p1 = plot(100*turnover,seriestype=:bar,label=\"\")\n",
    "    p1 = plot!(ylabel=\"Turnover (%)\", xlabel=\"Dias\", title=\"Turnover Diário Percentual\")\n",
    "    \n",
    "    p2 = plot(turnover.*W[2:end],seriestype=:bar,label=\"\")\n",
    "    p2 = plot!(ylabel=\"Turnover (\\$)\", xlabel=\"Dias\", title=\"Turnover Diário Monetário\")\n",
    "    \n",
    "    plot(p1, p2,  layout=grid(2,1), size=(900,800), plot_title = \"\", title=[\"Turnover Diário Percentual (j = $j, k = $k, λ = $λ)\" \"Turnover Diário Monetário (j = $j, k = $k, λ = $λ)\"])\n",
    "\n",
    "end\n",
    "\n",
    "function plot_W(datas_backtest, y, W, j, k, λ)\n",
    "    \n",
    "    W_indice = [10000.]\n",
    "    for h in 1:H\n",
    "        push!(W_indice, W_indice[end]+y[end-H+h]*W_indice[end])\n",
    "    end\n",
    "    \n",
    "    plot(title=\"Comparação Evolução Monetária (j = $j, k = $k, λ = $λ)\")\n",
    "    plot!(datas_backtest, W[2:end], label=\"Carteira\")\n",
    "    plot!(datas_backtest, W_indice[2:end], label=\"Índice\")\n",
    "end"
   ]
  },
  {
   "cell_type": "markdown",
   "id": "7427aa8f-5eba-4f29-a197-e0d35afb0741",
   "metadata": {},
   "source": [
    "## Otimização e backtest"
   ]
  },
  {
   "cell_type": "code",
   "execution_count": null,
   "id": "b1c64f4d-c19f-4be2-8ad9-d3047d73670c",
   "metadata": {},
   "outputs": [],
   "source": [
    "janelas          = [7, 30, 90, 200]\n",
    "λs               = [0.,  0.5, 1e-4, 1e-6]\n",
    "k_values         = [10, 20, 30, 38]\n",
    "H                = 50\n",
    "N                = size(R, 2)\n",
    "datas_backtest   = datas[end-H+1:end]\n",
    "W                = [10000.]\n",
    "alocacao_inicial = ones(N).*W[1]/N\n",
    "\n",
    "combinations = collect(Iterators.product(janelas, λs, k_values))\n",
    "\n",
    "alocacaoFinanceira_opt = []\n",
    "retornos_carteira_opt  = []\n",
    "alocacao_opt           = []\n",
    "erros_opt              = []\n",
    "turnover_opt           = []\n",
    "θ_values_opt           = []\n",
    "W_opt                  = []\n",
    "j_opt                  = 0\n",
    "λ_opt                  = 0.\n",
    "k_opt                  = 0\n",
    "\n",
    "min_error = Inf\n",
    "\n",
    "df_hyperparameters = DataFrame(Dict(\"j\"=>-1,\"k\"=>-1,\"λ\"=>-1.,\"error\"=>-Inf))\n"
   ]
  },
  {
   "cell_type": "code",
   "execution_count": null,
   "id": "c67c090b-591a-425f-9ec5-a1a2f114b2b0",
   "metadata": {},
   "outputs": [],
   "source": [
    "for (j, λ, k) in combinations\n",
    "    println(\"Otimizando j=$j, λ=$(λ), k=$k\")\n",
    "    W = [10000.]\n",
    "    alocacaoFinanceira = [alocacao_inicial]\n",
    "    T = length(y) - H\n",
    "    retornos_carteira = []\n",
    "    alocacao = []\n",
    "    erros = []\n",
    "    turnover = []\n",
    "    θ_values = []\n",
    "    I_values = [Int64.(zeros(N))]\n",
    "\n",
    "    for h in 1:H\n",
    "        println(\"Janela $h\")\n",
    "        y_T = y[1:T]\n",
    "        R_T = Matrix(R[1:T,:])\n",
    "        R_futuro = Vector(R[T+1,:])\n",
    "        y_futuro = y[T+1]\n",
    "\n",
    "        x_opt, θ_opt, I_opt, obj_value = downside_risk_sparse_optimization_with_costs(y_T, R_T, W[end], alocacaoFinanceira[end];j=j, k=k, λ=λ, initial_I=I_values[end])\n",
    "\n",
    "        W_futuro_bruto = W[end]*(1+ x_opt'R_futuro)\n",
    "        turnovert = abs(W_futuro_bruto - W[end])\n",
    "        custo_transacao = 0.01*turnovert\n",
    "        W_liquido = W_futuro_bruto - custo_transacao\n",
    "\n",
    "        push!(W, W_liquido)\n",
    "        push!(θ_values, θ_opt)\n",
    "        push!(I_values, round.(I_opt))\n",
    "\n",
    "        T += 1\n",
    "\n",
    "        alocFincanceiraT = x_opt*W[end]\n",
    "        push!(alocacaoFinanceira, alocFincanceiraT)\n",
    "        push!(turnover, turnovert/W[end-1])    \n",
    "        push!(alocacao, x_opt)\n",
    "        # push!(erros, obj_value)\n",
    "        push!(erros, (y_futuro - x_opt'R_futuro)^2)\n",
    "        push!(retornos_carteira, x_opt'R_futuro)\n",
    "    end\n",
    "\n",
    "    push!(df_hyperparameters, Dict(Dict(\"j\"=>j,\"k\"=>k,\"λ\"=>λ,\"error\"=>mean(erros))))\n",
    "    CSV.write(\"hyperparameters.csv\", df_hyperparameters)\n",
    "    \n",
    "    if mean(erros) <= min_error\n",
    "        min_error = mean(erros)\n",
    "        j_opt = j\n",
    "        k_opt = k\n",
    "        λ_opt = λ\n",
    "        error_opt = erros\n",
    "        retornos_carteira_opt = retornos_carteira\n",
    "        alocacao_opt = alocacao\n",
    "        turnover_opt = turnover\n",
    "        W_opt = W\n",
    "        alocaco_financeira_opt = alocacaoFinanceira\n",
    "    end\n",
    "    \n",
    "    plot_comparacao_retorno(datas_backtest,retornos_carteira, y, H, j, k, λ)\n",
    "    savefig(\"modelo_final_comparacao_retornos_$(j)$(k)$(λ).png\")\n",
    "\n",
    "    plot_turnover(turnover, j, k, λ)\n",
    "    savefig(\"modelo_final_turnovers_$(j)$(k)$(λ).png\")\n",
    "\n",
    "    plot_W(datas_backtest, y, W, j, k, λ)\n",
    "    savefig(\"modelo_final_comparacao_W_$(j)$(k)$(λ).png\")\n",
    "end"
   ]
  }
 ],
 "metadata": {
  "kernelspec": {
   "display_name": "Julia 1.8.2",
   "language": "julia",
   "name": "julia-1.8"
  },
  "language_info": {
   "file_extension": ".jl",
   "mimetype": "application/julia",
   "name": "julia",
   "version": "1.8.2"
  }
 },
 "nbformat": 4,
 "nbformat_minor": 5
}
